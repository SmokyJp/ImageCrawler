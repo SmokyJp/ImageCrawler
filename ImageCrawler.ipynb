{
  "nbformat": 4,
  "nbformat_minor": 0,
  "metadata": {
    "colab": {
      "name": "ImageCrawler.ipynb",
      "provenance": [],
      "collapsed_sections": []
    },
    "kernelspec": {
      "name": "python3",
      "display_name": "Python 3"
    },
    "language_info": {
      "name": "python"
    }
  },
  "cells": [
    {
      "cell_type": "code",
      "execution_count": 1,
      "metadata": {
        "colab": {
          "base_uri": "https://localhost:8080/"
        },
        "id": "ilx4qjElVaRT",
        "outputId": "8efb675e-a2eb-441a-da30-582a2e6c9273"
      },
      "outputs": [
        {
          "output_type": "stream",
          "name": "stdout",
          "text": [
            "Looking in indexes: https://pypi.org/simple, https://us-python.pkg.dev/colab-wheels/public/simple/\n",
            "Requirement already satisfied: icrawler in /usr/local/lib/python3.7/dist-packages (0.6.6)\n",
            "Requirement already satisfied: requests>=2.9.1 in /usr/local/lib/python3.7/dist-packages (from icrawler) (2.23.0)\n",
            "Requirement already satisfied: lxml in /usr/local/lib/python3.7/dist-packages (from icrawler) (4.2.6)\n",
            "Requirement already satisfied: six>=1.10.0 in /usr/local/lib/python3.7/dist-packages (from icrawler) (1.15.0)\n",
            "Requirement already satisfied: beautifulsoup4>=4.4.1 in /usr/local/lib/python3.7/dist-packages (from icrawler) (4.6.3)\n",
            "Requirement already satisfied: Pillow in /usr/local/lib/python3.7/dist-packages (from icrawler) (7.1.2)\n",
            "Requirement already satisfied: idna<3,>=2.5 in /usr/local/lib/python3.7/dist-packages (from requests>=2.9.1->icrawler) (2.10)\n",
            "Requirement already satisfied: certifi>=2017.4.17 in /usr/local/lib/python3.7/dist-packages (from requests>=2.9.1->icrawler) (2022.5.18.1)\n",
            "Requirement already satisfied: urllib3!=1.25.0,!=1.25.1,<1.26,>=1.21.1 in /usr/local/lib/python3.7/dist-packages (from requests>=2.9.1->icrawler) (1.24.3)\n",
            "Requirement already satisfied: chardet<4,>=3.0.2 in /usr/local/lib/python3.7/dist-packages (from requests>=2.9.1->icrawler) (3.0.4)\n"
          ]
        }
      ],
      "source": [
        "!pip install icrawler"
      ]
    },
    {
      "cell_type": "code",
      "source": [
        "#ドライブをマウントする\n",
        "from google.colab import drive\n",
        "drive.mount('/content/drive')"
      ],
      "metadata": {
        "colab": {
          "base_uri": "https://localhost:8080/"
        },
        "id": "2PfaRO3FWOMz",
        "outputId": "cf272e5c-c733-4e3f-a6f5-609d8d26b229"
      },
      "execution_count": 2,
      "outputs": [
        {
          "output_type": "stream",
          "name": "stdout",
          "text": [
            "Drive already mounted at /content/drive; to attempt to forcibly remount, call drive.mount(\"/content/drive\", force_remount=True).\n"
          ]
        }
      ]
    },
    {
      "cell_type": "code",
      "source": [
        "#カレントディレクトリに移動\n",
        "%cd '/content/drive/My Drive/Colaboratory Notebook'"
      ],
      "metadata": {
        "colab": {
          "base_uri": "https://localhost:8080/"
        },
        "id": "YdnLV6LfWR6z",
        "outputId": "d8c271dd-e001-441d-8aa7-43117cf1cf7c"
      },
      "execution_count": 3,
      "outputs": [
        {
          "output_type": "stream",
          "name": "stdout",
          "text": [
            "/content/drive/My Drive/Colaboratory Notebook\n"
          ]
        }
      ]
    },
    {
      "cell_type": "code",
      "source": [
        "from icrawler.builtin import BingImageCrawler\n",
        "# 画像を保存するために作成するフォルダ名を指定\n",
        "crawler = BingImageCrawler(storage={\"root_dir\": \"kitty\"})\n",
        "# 検索したい画像のキーワードと保存数を指定\n",
        "crawler.crawl(keyword=\"kitty cat\", max_num=10)"
      ],
      "metadata": {
        "colab": {
          "base_uri": "https://localhost:8080/"
        },
        "id": "K2roMFwQVkmD",
        "outputId": "5569df29-51e8-4d5e-a42a-a35b0e9f247c"
      },
      "execution_count": 4,
      "outputs": [
        {
          "output_type": "stream",
          "name": "stderr",
          "text": [
            "2022-06-16 07:18:10,571 - INFO - icrawler.crawler - start crawling...\n",
            "2022-06-16 07:18:10,572 - INFO - icrawler.crawler - starting 1 feeder threads...\n",
            "2022-06-16 07:18:10,579 - INFO - feeder - thread feeder-001 exit\n",
            "2022-06-16 07:18:10,582 - INFO - icrawler.crawler - starting 1 parser threads...\n",
            "2022-06-16 07:18:10,587 - INFO - icrawler.crawler - starting 1 downloader threads...\n",
            "2022-06-16 07:18:10,863 - INFO - parser - parsing result page https://www.bing.com/images/async?q=kitty cat&first=0\n",
            "2022-06-16 07:18:11,275 - ERROR - downloader - Response status code 403, file https://preview.redd.it/rnax1b057w531.jpg\n",
            "2022-06-16 07:18:12,199 - INFO - downloader - image #1\thttps://wallup.net/wp-content/uploads/2019/09/708260-kittens-kitten-cat-cats-baby-cute.jpg\n",
            "2022-06-16 07:18:12,328 - INFO - downloader - image #2\thttps://wallpapercave.com/wp/wp4695564.jpg\n",
            "2022-06-16 07:18:12,385 - INFO - downloader - image #3\thttps://i.pinimg.com/originals/7d/a2/f8/7da2f8594903da77359b0c5862847dea.jpg\n",
            "2022-06-16 07:18:12,829 - INFO - downloader - image #4\thttps://www.naturalhealthyliving.net/wp-content/uploads/2018/04/8-but-so-cute.jpg\n",
            "2022-06-16 07:18:12,939 - INFO - downloader - image #5\thttps://wallpapercave.com/wp/wp4695586.jpg\n",
            "2022-06-16 07:18:13,055 - INFO - downloader - image #6\thttp://admirableworld.com/files/images/2019/09/4_Cute_kitten_is_resting.jpg\n",
            "2022-06-16 07:18:13,213 - INFO - downloader - image #7\thttps://1.bp.blogspot.com/-n0pl5uhddtE/XnbQjOnmefI/AAAAAAAAo_E/wTu7wR7rHv4J8m97S5SlwAVgbPld3f0vwCLcBGAsYHQ/s2560/kitten-cute-4k-if-1080x1920.jpg\n",
            "2022-06-16 07:18:13,915 - INFO - downloader - image #8\thttps://wallup.net/wp-content/uploads/2018/10/06/708279-kittens-kitten-cat-cats-baby-cute-s.jpg\n",
            "2022-06-16 07:18:14,289 - INFO - downloader - image #9\thttps://www.nj.com/resizer/mg42jsVYwvbHKUUFQzpw6gyKmBg=/1280x0/smart/advancelocal-adapter-image-uploads.s3.amazonaws.com/image.nj.com/home/njo-media/width2048/img/somerset_impact/photo/sm0212petjpg-7a377c1c93f64d37.jpg\n",
            "2022-06-16 07:18:15,503 - INFO - downloader - image #10\thttps://wallup.net/wp-content/uploads/2019/09/453541-kitten-baby-cat.jpg\n",
            "2022-06-16 07:18:16,791 - INFO - downloader - downloaded images reach max num, thread downloader-001 is ready to exit\n",
            "2022-06-16 07:18:16,793 - INFO - downloader - thread downloader-001 exit\n",
            "2022-06-16 07:18:17,600 - INFO - icrawler.crawler - Crawling task done!\n"
          ]
        }
      ]
    }
  ]
}